{
  "cells": [
    {
      "cell_type": "markdown",
      "metadata": {
        "id": "TFCW_c9s9Li8"
      },
      "source": [
        "<table align=\"left\">\n",
        "  <td>\n",
        "    <a href=\"https://colab.research.google.com/github/auduvignac/challengedata_ens_AssurPrime/blob/main/notebooks/exploration/exploration.ipynb\" target=\"_parent\"><img src=\"https://colab.research.google.com/assets/colab-badge.svg\" alt=\"Open In Colab\"/></a>\n",
        "  </td>\n",
        "</table>"
      ]
    },
    {
      "cell_type": "markdown",
      "source": [
        "##Installation de category-encoder"
      ],
      "metadata": {
        "id": "FGzpIvEyEq8e"
      }
    },
    {
      "cell_type": "code",
      "source": [
        "!pip install category-encoders"
      ],
      "metadata": {
        "colab": {
          "base_uri": "https://localhost:8080/"
        },
        "id": "qJ5sFRfv9jay",
        "outputId": "0f7c673f-7fe9-414c-e114-16c9a85cf6ff"
      },
      "execution_count": 1,
      "outputs": [
        {
          "output_type": "stream",
          "name": "stdout",
          "text": [
            "Collecting category-encoders\n",
            "  Downloading category_encoders-2.8.1-py3-none-any.whl.metadata (7.9 kB)\n",
            "Requirement already satisfied: numpy>=1.14.0 in /usr/local/lib/python3.11/dist-packages (from category-encoders) (2.0.2)\n",
            "Requirement already satisfied: pandas>=1.0.5 in /usr/local/lib/python3.11/dist-packages (from category-encoders) (2.2.2)\n",
            "Requirement already satisfied: patsy>=0.5.1 in /usr/local/lib/python3.11/dist-packages (from category-encoders) (1.0.1)\n",
            "Requirement already satisfied: scikit-learn>=1.6.0 in /usr/local/lib/python3.11/dist-packages (from category-encoders) (1.6.1)\n",
            "Requirement already satisfied: scipy>=1.0.0 in /usr/local/lib/python3.11/dist-packages (from category-encoders) (1.14.1)\n",
            "Requirement already satisfied: statsmodels>=0.9.0 in /usr/local/lib/python3.11/dist-packages (from category-encoders) (0.14.4)\n",
            "Requirement already satisfied: python-dateutil>=2.8.2 in /usr/local/lib/python3.11/dist-packages (from pandas>=1.0.5->category-encoders) (2.8.2)\n",
            "Requirement already satisfied: pytz>=2020.1 in /usr/local/lib/python3.11/dist-packages (from pandas>=1.0.5->category-encoders) (2025.2)\n",
            "Requirement already satisfied: tzdata>=2022.7 in /usr/local/lib/python3.11/dist-packages (from pandas>=1.0.5->category-encoders) (2025.2)\n",
            "Requirement already satisfied: joblib>=1.2.0 in /usr/local/lib/python3.11/dist-packages (from scikit-learn>=1.6.0->category-encoders) (1.4.2)\n",
            "Requirement already satisfied: threadpoolctl>=3.1.0 in /usr/local/lib/python3.11/dist-packages (from scikit-learn>=1.6.0->category-encoders) (3.6.0)\n",
            "Requirement already satisfied: packaging>=21.3 in /usr/local/lib/python3.11/dist-packages (from statsmodels>=0.9.0->category-encoders) (24.2)\n",
            "Requirement already satisfied: six>=1.5 in /usr/local/lib/python3.11/dist-packages (from python-dateutil>=2.8.2->pandas>=1.0.5->category-encoders) (1.17.0)\n",
            "Downloading category_encoders-2.8.1-py3-none-any.whl (85 kB)\n",
            "\u001b[2K   \u001b[90m━━━━━━━━━━━━━━━━━━━━━━━━━━━━━━━━━━━━━━━━\u001b[0m \u001b[32m85.7/85.7 kB\u001b[0m \u001b[31m3.6 MB/s\u001b[0m eta \u001b[36m0:00:00\u001b[0m\n",
            "\u001b[?25hInstalling collected packages: category-encoders\n",
            "Successfully installed category-encoders-2.8.1\n"
          ]
        }
      ]
    },
    {
      "cell_type": "markdown",
      "source": [
        "##Importation des bibliothèques"
      ],
      "metadata": {
        "id": "TrtVAxbOEy-S"
      }
    },
    {
      "cell_type": "code",
      "execution_count": 2,
      "metadata": {
        "id": "HRVBgvU_9Li9"
      },
      "outputs": [],
      "source": [
        "# Importer les bibliothèques nécessaires\n",
        "import pandas as pd\n",
        "import matplotlib.pyplot as plt\n",
        "import seaborn as sns\n",
        "from scipy.stats import chi2_contingency\n",
        "pd.set_option('display.max_columns', 375)\n",
        "import numpy as np\n",
        "from category_encoders import CountEncoder\n",
        "from sklearn.metrics import mean_squared_error\n",
        "from sklearn.ensemble import RandomForestRegressor, GradientBoostingRegressor"
      ]
    },
    {
      "cell_type": "markdown",
      "source": [
        "##Chargement des données"
      ],
      "metadata": {
        "id": "wvgO4-wNE4tS"
      }
    },
    {
      "cell_type": "code",
      "execution_count": 3,
      "metadata": {
        "colab": {
          "base_uri": "https://localhost:8080/"
        },
        "id": "203keDjq9Li-",
        "outputId": "c2779ddc-03df-432d-e2ba-a08bd26f5768"
      },
      "outputs": [
        {
          "output_type": "stream",
          "name": "stdout",
          "text": [
            "Chargement des données...\n"
          ]
        },
        {
          "output_type": "stream",
          "name": "stderr",
          "text": [
            "<ipython-input-3-c5aaf42838da>:5: DtypeWarning: Columns (16,17,29,30,31,126,128,129,132,133,135,138,371) have mixed types. Specify dtype option on import or set low_memory=False.\n",
            "  X_train = pd.read_csv(X_train_url)\n",
            "<ipython-input-3-c5aaf42838da>:9: DtypeWarning: Columns (16,17,29,30,31,126,128,129,132,133,135,138,371) have mixed types. Specify dtype option on import or set low_memory=False.\n",
            "  X_test = pd.read_csv(X_test_url)\n"
          ]
        },
        {
          "output_type": "stream",
          "name": "stdout",
          "text": [
            "Données chargées avec succès.\n"
          ]
        }
      ],
      "source": [
        "# Charger les données\n",
        "try:\n",
        "  print(\"Chargement des données...\")\n",
        "  X_train_url = \"https://media.githubusercontent.com/media/auduvignac/challengedata_ens_AssurPrime/refs/heads/main/data/raw/x_train.csv\"\n",
        "  X_train = pd.read_csv(X_train_url)\n",
        "  y_train_url = \"https://media.githubusercontent.com/media/auduvignac/challengedata_ens_AssurPrime/refs/heads/main/data/raw/y_train.csv\"\n",
        "  y_train = pd.read_csv(y_train_url)\n",
        "  X_test_url = \"https://media.githubusercontent.com/media/auduvignac/challengedata_ens_AssurPrime/refs/heads/main/data/raw/x_test.csv\"\n",
        "  X_test = pd.read_csv(X_test_url)\n",
        "  print(\"Données chargées avec succès.\")\n",
        "except:\n",
        "  print(\"Erreur lors du chargement des données. Vérifiez que les URLs sont correctes.\")"
      ]
    },
    {
      "cell_type": "code",
      "execution_count": 4,
      "metadata": {
        "colab": {
          "base_uri": "https://localhost:8080/"
        },
        "id": "JNIZ1QgG9Li_",
        "outputId": "6da348e2-c9c4-4178-a753-9853062965f0"
      },
      "outputs": [
        {
          "output_type": "stream",
          "name": "stdout",
          "text": [
            "Traitement des valeurs manquantes dans les colonnes numériques...\n",
            "Traitement des valeurs manquantes terminé.\n"
          ]
        }
      ],
      "source": [
        "# Traitement des valeurs manquantes dans les colonnes numériques\n",
        "print(\"Traitement des valeurs manquantes dans les colonnes numériques...\")\n",
        "numeric_columns = X_train.select_dtypes(include=['number']).columns\n",
        "\n",
        "# Remplir les NaN avec 0 pour les colonnes numériques\n",
        "X_train[numeric_columns] = X_train[numeric_columns].fillna(0)\n",
        "\n",
        "# Identifier les colonnes non numériques\n",
        "fill_cols = [item for item in X_train.columns if item not in numeric_columns]\n",
        "\n",
        "# Remplir les NaN des colonnes non numériques avec une valeur par défaut (-999)\n",
        "X_train[fill_cols] = X_train[fill_cols].fillna(-999)\n",
        "\n",
        "print(\"Traitement des valeurs manquantes terminé.\")"
      ]
    },
    {
      "cell_type": "code",
      "execution_count": 5,
      "metadata": {
        "colab": {
          "base_uri": "https://localhost:8080/"
        },
        "id": "8koXz8Ni9Li_",
        "outputId": "7d7b59db-c400-418e-e948-bbf83825f42b"
      },
      "outputs": [
        {
          "output_type": "stream",
          "name": "stdout",
          "text": [
            "Préparation des données pour l'entraînement...\n",
            "Préparation terminée.\n"
          ]
        }
      ],
      "source": [
        "# Préparation des données pour l'entraînement\n",
        "print(\"Préparation des données pour l'entraînement...\")\n",
        "\n",
        "# Suppression des colonnes inutiles\n",
        "X_train = X_train.drop(['ID', 'ANNEE_ASSURANCE'], axis=1)\n",
        "\n",
        "# Encodage des variables catégoriques avec CountEncoder\n",
        "encoder = CountEncoder(cols=fill_cols)\n",
        "encoder.fit(X_train)\n",
        "X_train_enc = encoder.transform(X_train)\n",
        "\n",
        "print(\"Préparation terminée.\")"
      ]
    },
    {
      "cell_type": "markdown",
      "source": [
        "###Insertion de code\n"
      ],
      "metadata": {
        "id": "TcVUrIrO_vFe"
      }
    },
    {
      "cell_type": "code",
      "source": [
        "from sklearn.preprocessing import StandardScaler\n",
        "from sklearn.metrics import classification_report, fbeta_score, mean_squared_error\n",
        "from xgboost import XGBClassifier, XGBRegressor\n",
        "import pandas as pd\n",
        "import numpy as np"
      ],
      "metadata": {
        "id": "A0JV45N_AKaG"
      },
      "execution_count": 6,
      "outputs": []
    },
    {
      "cell_type": "code",
      "source": [
        "def train_classifier(X, y_binary, scale_pos_weight=99):\n",
        "    scaler = StandardScaler()\n",
        "    X_scaled = scaler.fit_transform(X)\n",
        "\n",
        "    clf = XGBClassifier(\n",
        "        use_label_encoder=False,\n",
        "        eval_metric='logloss',\n",
        "        n_jobs=-1,\n",
        "        verbosity=0,\n",
        "        scale_pos_weight=scale_pos_weight\n",
        "    )\n",
        "    clf.fit(X_scaled, y_binary)\n",
        "    return clf, scaler"
      ],
      "metadata": {
        "id": "h1_O_dH1ARIP"
      },
      "execution_count": 7,
      "outputs": []
    },
    {
      "cell_type": "code",
      "source": [
        "def find_best_threshold(y_true, y_proba, beta=2, thresholds=np.linspace(0.01, 0.99, 100)):\n",
        "    best_thresh, best_score = 0, 0\n",
        "    for t in thresholds:\n",
        "        y_pred = (y_proba >= t).astype(int)\n",
        "        score = fbeta_score(y_true, y_pred, beta=beta)\n",
        "        if score > best_score:\n",
        "            best_thresh, best_score = t, score\n",
        "    return best_thresh, best_score\n"
      ],
      "metadata": {
        "id": "7liqzIHfAYFv"
      },
      "execution_count": 8,
      "outputs": []
    },
    {
      "cell_type": "code",
      "source": [
        "def train_regressors(X, y_freq, y_cm, mask):\n",
        "    X_sub = X[mask]\n",
        "    y_freq_sub = y_freq[mask]\n",
        "    y_cm_sub = y_cm[mask]\n",
        "\n",
        "    reg_freq = XGBRegressor(n_jobs=-1, verbosity=0)\n",
        "    reg_cm = XGBRegressor(n_jobs=-1, verbosity=0)\n",
        "\n",
        "    reg_freq.fit(X_sub, y_freq_sub)\n",
        "    reg_cm.fit(X_sub, y_cm_sub)\n",
        "\n",
        "    return reg_freq, reg_cm\n"
      ],
      "metadata": {
        "id": "3bFpqX5XAcWi"
      },
      "execution_count": 9,
      "outputs": []
    },
    {
      "cell_type": "code",
      "source": [
        "def run_pipeline(X, y, beta=2):\n",
        "    # Étape 1 : classification\n",
        "    y_binary = (y['FREQ'] > 0).astype(int)\n",
        "    clf, scaler = train_classifier(X, y_binary)\n",
        "\n",
        "    X_scaled = scaler.transform(X)\n",
        "    y_proba = clf.predict_proba(X_scaled)[:, 1]\n",
        "\n",
        "    threshold, fbeta = find_best_threshold(y_binary, y_proba, beta=beta)\n",
        "    print(f\"Meilleur seuil (F{beta}): {threshold:.2f} - Score: {fbeta:.3f}\")\n",
        "\n",
        "    y_pred_class = (y_proba >= threshold).astype(int)\n",
        "    print(classification_report(y_binary, y_pred_class, digits=3))\n",
        "\n",
        "    # Étape 2 : entraînement des régressions sur les cas classés 1\n",
        "    mask_classified_pos = y_pred_class == 1\n",
        "    reg_freq, reg_cm = train_regressors(X, y['FREQ'], y['CM'], mask_classified_pos)\n",
        "\n",
        "    return clf, scaler, threshold, reg_freq, reg_cm\n"
      ],
      "metadata": {
        "id": "fDG7KsCJAibC"
      },
      "execution_count": 10,
      "outputs": []
    },
    {
      "cell_type": "code",
      "source": [
        "clf, scaler, threshold, reg_freq, reg_cm = run_pipeline(X_train_enc, y_train)"
      ],
      "metadata": {
        "colab": {
          "base_uri": "https://localhost:8080/"
        },
        "id": "LsmAZE4MAmdm",
        "outputId": "85f448c4-ae3d-459e-ed00-a31607f770ab"
      },
      "execution_count": 11,
      "outputs": [
        {
          "output_type": "stream",
          "name": "stdout",
          "text": [
            "Meilleur seuil (F2): 0.73 - Score: 0.450\n",
            "              precision    recall  f1-score   support\n",
            "\n",
            "           0      0.997     0.987     0.992    380716\n",
            "           1      0.249     0.565     0.345      2894\n",
            "\n",
            "    accuracy                          0.984    383610\n",
            "   macro avg      0.623     0.776     0.669    383610\n",
            "weighted avg      0.991     0.984     0.987    383610\n",
            "\n"
          ]
        }
      ]
    },
    {
      "cell_type": "code",
      "source": [
        "def predict_pipeline(X, clf, scaler, threshold, reg_freq, reg_cm):\n",
        "    X_scaled = scaler.transform(X)\n",
        "    y_proba = clf.predict_proba(X_scaled)[:, 1]\n",
        "    mask = y_proba >= threshold\n",
        "\n",
        "    freq_pred = np.zeros(X.shape[0])\n",
        "    cm_pred = np.zeros(X.shape[0])\n",
        "\n",
        "    if mask.sum() > 0:\n",
        "        freq_pred[mask] = reg_freq.predict(X[mask])\n",
        "        cm_pred[mask] = reg_cm.predict(X[mask])\n",
        "\n",
        "    return freq_pred, cm_pred, y_proba\n"
      ],
      "metadata": {
        "id": "mvllWbNGFDtB"
      },
      "execution_count": 13,
      "outputs": []
    },
    {
      "cell_type": "code",
      "source": [
        "freq_pred, cm_pred, infl_proba = predict_pipeline(X_train_enc, clf, scaler, threshold, reg_freq, reg_cm)\n"
      ],
      "metadata": {
        "id": "ZgfwmTIrFFf1"
      },
      "execution_count": 15,
      "outputs": []
    },
    {
      "cell_type": "markdown",
      "source": [
        "###Evaluation possible"
      ],
      "metadata": {
        "id": "M67eh3EyFOra"
      }
    },
    {
      "cell_type": "code",
      "source": [
        "from sklearn.metrics import mean_squared_error\n",
        "import numpy as np\n",
        "\n",
        "mask_true = (y_train['FREQ'] > 0)\n",
        "\n",
        "# Calcul du MSE puis de la racine\n",
        "mse_freq = mean_squared_error(y_train['FREQ'][mask_true], freq_pred[mask_true])\n",
        "rmse_freq = np.sqrt(mse_freq)\n",
        "\n",
        "mse_cm = mean_squared_error(y_train['CM'][mask_true], cm_pred[mask_true])\n",
        "rmse_cm = np.sqrt(mse_cm)\n"
      ],
      "metadata": {
        "id": "muZXg0OsImWH"
      },
      "execution_count": 19,
      "outputs": []
    },
    {
      "cell_type": "code",
      "source": [
        "from sklearn.metrics import mean_squared_error\n",
        "\n",
        "rmse_freq = mean_squared_error(y_train['FREQ'][mask_true], freq_pred[mask_true])\n",
        "rmse_cm   = mean_squared_error(y_train['CM'][mask_true], cm_pred[mask_true])\n",
        "\n",
        "print(f\"RMSE FREQ (cond. FREQ > 0) : {rmse_freq:.3f}\")\n",
        "print(f\"RMSE CM   (cond. FREQ > 0) : {rmse_cm:.3f}\")\n"
      ],
      "metadata": {
        "colab": {
          "base_uri": "https://localhost:8080/"
        },
        "id": "IS6tCm-vFKBm",
        "outputId": "c16e87e6-78ee-4eb9-e6a8-3634200dac79"
      },
      "execution_count": 24,
      "outputs": [
        {
          "output_type": "stream",
          "name": "stdout",
          "text": [
            "RMSE FREQ (cond. FREQ > 0) : 2.252\n",
            "RMSE CM   (cond. FREQ > 0) : 2185840122.225\n"
          ]
        }
      ]
    },
    {
      "cell_type": "markdown",
      "source": [
        "###Fin d'insertion de code"
      ],
      "metadata": {
        "id": "ekrXU4C5__oo"
      }
    },
    {
      "cell_type": "markdown",
      "source": [
        "###Calcul de la prédiction combinée"
      ],
      "metadata": {
        "id": "MGKarcDhAEdC"
      }
    },
    {
      "cell_type": "code",
      "execution_count": 25,
      "metadata": {
        "id": "6nCxZAWe9LjA"
      },
      "outputs": [],
      "source": [
        "# Calculer la prédiction combinée pour 'CHARGE'\n",
        "y_train_pred = freq_pred * cm_pred * y_train['ANNEE_ASSURANCE']"
      ]
    },
    {
      "cell_type": "code",
      "execution_count": 26,
      "metadata": {
        "colab": {
          "base_uri": "https://localhost:8080/"
        },
        "id": "SD4qo84h9LjA",
        "outputId": "0528d405-5dba-462e-a1dc-c7f96071d356"
      },
      "outputs": [
        {
          "output_type": "stream",
          "name": "stdout",
          "text": [
            "RMSE sur l'ensemble d'entraînement : 4642.90\n"
          ]
        }
      ],
      "source": [
        "# Calculer le RMSE sur l'ensemble d'entraînement\n",
        "rmse = np.sqrt(mean_squared_error(y_train['CHARGE'], y_train_pred))\n",
        "print(f\"RMSE sur l'ensemble d'entraînement : {rmse:.2f}\")"
      ]
    }
  ],
  "metadata": {
    "kernelspec": {
      "display_name": "Python 3",
      "name": "python3"
    },
    "language_info": {
      "codemirror_mode": {
        "name": "ipython",
        "version": 3
      },
      "file_extension": ".py",
      "mimetype": "text/x-python",
      "name": "python",
      "nbconvert_exporter": "python",
      "pygments_lexer": "ipython3",
      "version": "3.9.5"
    },
    "colab": {
      "provenance": [],
      "gpuType": "T4"
    },
    "accelerator": "GPU"
  },
  "nbformat": 4,
  "nbformat_minor": 0
}